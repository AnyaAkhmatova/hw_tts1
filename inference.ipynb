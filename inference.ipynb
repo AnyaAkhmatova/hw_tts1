{
  "nbformat": 4,
  "nbformat_minor": 0,
  "metadata": {
    "colab": {
      "provenance": [],
      "gpuType": "T4"
    },
    "kernelspec": {
      "name": "python3",
      "display_name": "Python 3"
    },
    "language_info": {
      "name": "python"
    },
    "accelerator": "GPU"
  },
  "cells": [
    {
      "cell_type": "code",
      "source": [
        "# !unzip tts1_project.zip -d .\n",
        "# !cp -r ./tts1_project/. .\n",
        "# !rm -rf tts1_project/ tts1_project.zip\n",
        "!rm -rf /content/final_model/\n",
        "!mkdir ./final_model/\n",
        "!cp -r /content/drive/MyDrive/dla_hw3/final_model/exp6/. ./final_model/"
      ],
      "metadata": {
        "id": "8nBy9qdb9tpA"
      },
      "execution_count": 14,
      "outputs": []
    },
    {
      "cell_type": "code",
      "source": [
        "!pip install -r requirements.txt\n",
        "!pip install ."
      ],
      "metadata": {
        "colab": {
          "base_uri": "https://localhost:8080/"
        },
        "id": "U-MbtOGp-x8F",
        "outputId": "2932a9c5-429e-4997-95ec-385b642b4836"
      },
      "execution_count": 9,
      "outputs": [
        {
          "output_type": "stream",
          "name": "stdout",
          "text": [
            "Installing collected packages: hw-tts\n",
            "Successfully installed hw-tts-0.0\n"
          ]
        }
      ]
    },
    {
      "cell_type": "code",
      "source": [
        "!gdown https://drive.google.com/u/0/uc?id=1-4cIK7IXOlpQYNqFoyF3RLMiy14JufGn\n",
        "!unzip fastspeech2_dataset.zip\n",
        "!rm -rf fastspeech2_dataset.zip\n",
        "\n",
        "!gdown https://drive.google.com/u/0/uc?id=1WsibBTsuRg_SF2Z6L6NFRTT-NjEy1oTx\n",
        "!mkdir -p waveglow/pretrained_model/\n",
        "!mv waveglow_256channels_ljs_v2.pt waveglow/pretrained_model/waveglow_256channels.pt\n",
        "\n",
        "!git clone https://github.com/xcmyz/FastSpeech.git\n",
        "!mv ./FastSpeech/text .\n",
        "!mv ./FastSpeech/audio .\n",
        "!mv ./FastSpeech/waveglow/* waveglow/\n",
        "!mv ./FastSpeech/utils.py .\n",
        "!mv ./FastSpeech/glow.py .\n",
        "!mv ./FastSpeech/hparams.py .\n",
        "!rm -rf ./FastSpeech/"
      ],
      "metadata": {
        "id": "kBl_eu6F-yOT"
      },
      "execution_count": null,
      "outputs": []
    },
    {
      "cell_type": "code",
      "source": [
        "import wandb\n",
        "wandb.login()"
      ],
      "metadata": {
        "colab": {
          "base_uri": "https://localhost:8080/",
          "height": 121
        },
        "id": "Xgxw7fNY-581",
        "outputId": "f0eff3bb-d5f3-4324-f149-249b8d0e8ee4"
      },
      "execution_count": 11,
      "outputs": [
        {
          "output_type": "display_data",
          "data": {
            "text/plain": [
              "<IPython.core.display.Javascript object>"
            ],
            "application/javascript": [
              "\n",
              "        window._wandbApiKey = new Promise((resolve, reject) => {\n",
              "            function loadScript(url) {\n",
              "            return new Promise(function(resolve, reject) {\n",
              "                let newScript = document.createElement(\"script\");\n",
              "                newScript.onerror = reject;\n",
              "                newScript.onload = resolve;\n",
              "                document.body.appendChild(newScript);\n",
              "                newScript.src = url;\n",
              "            });\n",
              "            }\n",
              "            loadScript(\"https://cdn.jsdelivr.net/npm/postmate/build/postmate.min.js\").then(() => {\n",
              "            const iframe = document.createElement('iframe')\n",
              "            iframe.style.cssText = \"width:0;height:0;border:none\"\n",
              "            document.body.appendChild(iframe)\n",
              "            const handshake = new Postmate({\n",
              "                container: iframe,\n",
              "                url: 'https://wandb.ai/authorize'\n",
              "            });\n",
              "            const timeout = setTimeout(() => reject(\"Couldn't auto authenticate\"), 5000)\n",
              "            handshake.then(function(child) {\n",
              "                child.on('authorize', data => {\n",
              "                    clearTimeout(timeout)\n",
              "                    resolve(data)\n",
              "                });\n",
              "            });\n",
              "            })\n",
              "        });\n",
              "    "
            ]
          },
          "metadata": {}
        },
        {
          "output_type": "stream",
          "name": "stderr",
          "text": [
            "\u001b[34m\u001b[1mwandb\u001b[0m: Logging into wandb.ai. (Learn how to deploy a W&B server locally: https://wandb.me/wandb-server)\n",
            "\u001b[34m\u001b[1mwandb\u001b[0m: You can find your API key in your browser here: https://wandb.ai/authorize\n",
            "wandb: Paste an API key from your profile and hit enter, or press ctrl+c to quit:"
          ]
        },
        {
          "name": "stdout",
          "output_type": "stream",
          "text": [
            " ··········\n"
          ]
        },
        {
          "output_type": "stream",
          "name": "stderr",
          "text": [
            "\u001b[34m\u001b[1mwandb\u001b[0m: Appending key for api.wandb.ai to your netrc file: /root/.netrc\n"
          ]
        },
        {
          "output_type": "execute_result",
          "data": {
            "text/plain": [
              "True"
            ]
          },
          "metadata": {},
          "execution_count": 11
        }
      ]
    },
    {
      "cell_type": "code",
      "source": [
        "!python3 inference.py -c ./inference/config.json -r ./final_model/model_best.pth"
      ],
      "metadata": {
        "colab": {
          "base_uri": "https://localhost:8080/"
        },
        "id": "WKzurViv90aT",
        "outputId": "8e69b2dd-f826-42f5-aaa8-4f9941f2f6a1"
      },
      "execution_count": 15,
      "outputs": [
        {
          "output_type": "stream",
          "name": "stdout",
          "text": [
            "FastSpeech2(\n",
            "  (encoder): Encoder(\n",
            "    (src_word_emb): Embedding(300, 256, padding_idx=0)\n",
            "    (position_enc): Embedding(3001, 256, padding_idx=0)\n",
            "    (layer_stack): ModuleList(\n",
            "      (0-3): 4 x FFTBlock(\n",
            "        (slf_attn): MultiHeadAttention(\n",
            "          (w_qs): Linear(in_features=256, out_features=256, bias=True)\n",
            "          (w_ks): Linear(in_features=256, out_features=256, bias=True)\n",
            "          (w_vs): Linear(in_features=256, out_features=256, bias=True)\n",
            "          (attention): ScaledDotProductAttention(\n",
            "            (dropout): Dropout(p=0.1, inplace=False)\n",
            "            (softmax): Softmax(dim=2)\n",
            "          )\n",
            "          (layer_norm): LayerNorm((256,), eps=1e-05, elementwise_affine=True)\n",
            "          (fc): Linear(in_features=256, out_features=256, bias=True)\n",
            "          (dropout): Dropout(p=0.5, inplace=False)\n",
            "        )\n",
            "        (pos_ffn): PositionwiseFeedForward(\n",
            "          (w_1): Conv1d(256, 1024, kernel_size=(9,), stride=(1,), padding=(4,))\n",
            "          (w_2): Conv1d(1024, 256, kernel_size=(1,), stride=(1,))\n",
            "          (layer_norm): LayerNorm((256,), eps=1e-05, elementwise_affine=True)\n",
            "          (dropout): Dropout(p=0.5, inplace=False)\n",
            "        )\n",
            "      )\n",
            "    )\n",
            "  )\n",
            "  (length_regulator): LengthRegulator(\n",
            "    (duration_predictor): DurationPredictor(\n",
            "      (conv_net): Sequential(\n",
            "        (0): Transpose()\n",
            "        (1): Conv1d(256, 256, kernel_size=(3,), stride=(1,), padding=(1,))\n",
            "        (2): Transpose()\n",
            "        (3): ReLU()\n",
            "        (4): LayerNorm((256,), eps=1e-05, elementwise_affine=True)\n",
            "        (5): Dropout(p=0.5, inplace=False)\n",
            "        (6): Transpose()\n",
            "        (7): Conv1d(256, 256, kernel_size=(3,), stride=(1,), padding=(1,))\n",
            "        (8): Transpose()\n",
            "        (9): ReLU()\n",
            "        (10): LayerNorm((256,), eps=1e-05, elementwise_affine=True)\n",
            "        (11): Dropout(p=0.5, inplace=False)\n",
            "      )\n",
            "      (linear_layer): Linear(in_features=256, out_features=1, bias=True)\n",
            "    )\n",
            "  )\n",
            "  (pitch_predictor): PitchPredictor(\n",
            "    (conv_net): Sequential(\n",
            "      (0): Transpose()\n",
            "      (1): Conv1d(256, 256, kernel_size=(3,), stride=(1,), padding=(1,))\n",
            "      (2): Transpose()\n",
            "      (3): ReLU()\n",
            "      (4): LayerNorm((256,), eps=1e-05, elementwise_affine=True)\n",
            "      (5): Dropout(p=0.5, inplace=False)\n",
            "      (6): Transpose()\n",
            "      (7): Conv1d(256, 256, kernel_size=(3,), stride=(1,), padding=(1,))\n",
            "      (8): Transpose()\n",
            "      (9): ReLU()\n",
            "      (10): LayerNorm((256,), eps=1e-05, elementwise_affine=True)\n",
            "      (11): Dropout(p=0.5, inplace=False)\n",
            "    )\n",
            "    (linear_layer): Linear(in_features=256, out_features=1, bias=True)\n",
            "    (mean_pred): Linear(in_features=256, out_features=1, bias=True)\n",
            "    (std_pred): Linear(in_features=256, out_features=1, bias=True)\n",
            "  )\n",
            "  (pitch_embed): Embedding(256, 256)\n",
            "  (energy_predictor): EnergyPredictor(\n",
            "    (conv_net): Sequential(\n",
            "      (0): Transpose()\n",
            "      (1): Conv1d(256, 256, kernel_size=(3,), stride=(1,), padding=(1,))\n",
            "      (2): Transpose()\n",
            "      (3): ReLU()\n",
            "      (4): LayerNorm((256,), eps=1e-05, elementwise_affine=True)\n",
            "      (5): Dropout(p=0.5, inplace=False)\n",
            "      (6): Transpose()\n",
            "      (7): Conv1d(256, 256, kernel_size=(3,), stride=(1,), padding=(1,))\n",
            "      (8): Transpose()\n",
            "      (9): ReLU()\n",
            "      (10): LayerNorm((256,), eps=1e-05, elementwise_affine=True)\n",
            "      (11): Dropout(p=0.5, inplace=False)\n",
            "    )\n",
            "    (linear_layer): Linear(in_features=256, out_features=1, bias=True)\n",
            "  )\n",
            "  (energy_embed): Embedding(256, 256)\n",
            "  (decoder): Decoder(\n",
            "    (position_enc): Embedding(3001, 256, padding_idx=0)\n",
            "    (layer_stack): ModuleList(\n",
            "      (0-3): 4 x FFTBlock(\n",
            "        (slf_attn): MultiHeadAttention(\n",
            "          (w_qs): Linear(in_features=256, out_features=256, bias=True)\n",
            "          (w_ks): Linear(in_features=256, out_features=256, bias=True)\n",
            "          (w_vs): Linear(in_features=256, out_features=256, bias=True)\n",
            "          (attention): ScaledDotProductAttention(\n",
            "            (dropout): Dropout(p=0.1, inplace=False)\n",
            "            (softmax): Softmax(dim=2)\n",
            "          )\n",
            "          (layer_norm): LayerNorm((256,), eps=1e-05, elementwise_affine=True)\n",
            "          (fc): Linear(in_features=256, out_features=256, bias=True)\n",
            "          (dropout): Dropout(p=0.5, inplace=False)\n",
            "        )\n",
            "        (pos_ffn): PositionwiseFeedForward(\n",
            "          (w_1): Conv1d(256, 1024, kernel_size=(9,), stride=(1,), padding=(4,))\n",
            "          (w_2): Conv1d(1024, 256, kernel_size=(1,), stride=(1,))\n",
            "          (layer_norm): LayerNorm((256,), eps=1e-05, elementwise_affine=True)\n",
            "          (dropout): Dropout(p=0.5, inplace=False)\n",
            "        )\n",
            "      )\n",
            "    )\n",
            "  )\n",
            "  (mel_linear): Linear(in_features=256, out_features=80, bias=True)\n",
            ")\n",
            "Loading checkpoint: ./final_model/model_best.pth ...\n",
            "\u001b[34m\u001b[1mwandb\u001b[0m: Currently logged in as: \u001b[33makhmatovaanna2002\u001b[0m (\u001b[33mteam-from-wonderland\u001b[0m). Use \u001b[1m`wandb login --relogin`\u001b[0m to force relogin\n",
            "\u001b[34m\u001b[1mwandb\u001b[0m: Tracking run with wandb version 0.16.0\n",
            "\u001b[34m\u001b[1mwandb\u001b[0m: Run data is saved locally in \u001b[35m\u001b[1m/content/wandb/run-20231122_124742-ay7y6aht\u001b[0m\n",
            "\u001b[34m\u001b[1mwandb\u001b[0m: Run \u001b[1m`wandb offline`\u001b[0m to turn off syncing.\n",
            "\u001b[34m\u001b[1mwandb\u001b[0m: Syncing run \u001b[33mpeach-sound-71\u001b[0m\n",
            "\u001b[34m\u001b[1mwandb\u001b[0m: ⭐️ View project at \u001b[34m\u001b[4mhttps://wandb.ai/team-from-wonderland/tts1_project\u001b[0m\n",
            "\u001b[34m\u001b[1mwandb\u001b[0m: 🚀 View run at \u001b[34m\u001b[4mhttps://wandb.ai/team-from-wonderland/tts1_project/runs/ay7y6aht\u001b[0m\n",
            "Table is added to wandb\n"
          ]
        }
      ]
    },
    {
      "cell_type": "code",
      "source": [],
      "metadata": {
        "id": "uc1sm5C7A3hm"
      },
      "execution_count": null,
      "outputs": []
    }
  ]
}